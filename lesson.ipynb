{
 "cells": [
  {
   "cell_type": "code",
   "execution_count": 4,
   "metadata": {},
   "outputs": [],
   "source": [
    "from config.config import BOOK_API_KEY\n",
    "from googleapiclient.discovery import build\n",
    "from IPython.display import JSON\n",
    "import pandas as pd"
   ]
  },
  {
   "cell_type": "code",
   "execution_count": 5,
   "metadata": {},
   "outputs": [
    {
     "name": "stdout",
     "output_type": "stream",
     "text": [
      "{'kind': 'books#volumes', 'totalItems': 1, 'items': [{'kind': 'books#volume', 'id': 'JfLsAQAAQBAJ', 'etag': '2r7s8wpO664', 'selfLink': 'https://books.googleapis.com/books/v1/volumes/JfLsAQAAQBAJ', 'volumeInfo': {'title': 'Hamlet', 'authors': ['Shakespeare, William'], 'publisher': 'Aegitas', 'publishedDate': '2015-04-24', 'description': 'Hamlet é uma tragédia de William Shakespeare, escrita entre 1599 e 1601. A peça, situada na Dinamarca, reconta a história de como o Príncipe Hamlet tenta vingar a morte de seu pai Hamlet, o rei, executando seu tio Cláudio, que o envenenou e em seguida tomou o trono casando-se com a mãe de Hamlet. A peça traça um mapa do curso de vida na loucura real e na loucura fingida — do sofrimento opressivo à raiva fervorosa — e explora temas como a traição, vingança, incesto, corrupção e moralidade. Apesar da enorme investigação que se faz acerca do texto, o ano exato em que Shakespeare escreveu-o permanece em debate. Três primeiras versões da peça sobrevivem aos nossos dias: essas são conhecidas como o Primeiro Quarto (Q1), o Segundo Quarto (Q2) e o First Folio (F1). Cada uma dessas possui linhas ou mesmo cenas que estão ausentes nas outras. Acredita-se que Shakespeare escreveu Hamlet baseado na lenda de Amleto, preservada no século XIII pelo cronista Saxo Grammaticus em seu Gesta Danorum e, mais tarde, retomada por François de Belleforest no século XVI, e numa suposta peça do teatro isabelino conhecida hoje como Ur-Hamlet.', 'industryIdentifiers': [{'type': 'ISBN_13', 'identifier': '9785000641293'}, {'type': 'ISBN_10', 'identifier': '5000641299'}], 'readingModes': {'text': True, 'image': True}, 'pageCount': 142, 'printType': 'BOOK', 'categories': ['Drama'], 'maturityRating': 'NOT_MATURE', 'allowAnonLogging': True, 'contentVersion': '1.9.10.0.preview.3', 'panelizationSummary': {'containsEpubBubbles': False, 'containsImageBubbles': False}, 'imageLinks': {'smallThumbnail': 'http://books.google.com/books/content?id=JfLsAQAAQBAJ&printsec=frontcover&img=1&zoom=5&edge=curl&source=gbs_api', 'thumbnail': 'http://books.google.com/books/content?id=JfLsAQAAQBAJ&printsec=frontcover&img=1&zoom=1&edge=curl&source=gbs_api'}, 'language': 'pt-BR', 'previewLink': 'http://books.google.com.tr/books?id=JfLsAQAAQBAJ&printsec=frontcover&dq=JfLsAQAAQBAJ&hl=&cd=1&source=gbs_api', 'infoLink': 'https://play.google.com/store/books/details?id=JfLsAQAAQBAJ&source=gbs_api', 'canonicalVolumeLink': 'https://play.google.com/store/books/details?id=JfLsAQAAQBAJ'}, 'saleInfo': {'country': 'TR', 'saleability': 'FOR_SALE', 'isEbook': True, 'listPrice': {'amount': 34.57, 'currencyCode': 'TRY'}, 'retailPrice': {'amount': 34.57, 'currencyCode': 'TRY'}, 'buyLink': 'https://play.google.com/store/books/details?id=JfLsAQAAQBAJ&rdid=book-JfLsAQAAQBAJ&rdot=1&source=gbs_api', 'offers': [{'finskyOfferType': 1, 'listPrice': {'amountInMicros': 34570000, 'currencyCode': 'TRY'}, 'retailPrice': {'amountInMicros': 34570000, 'currencyCode': 'TRY'}}]}, 'accessInfo': {'country': 'TR', 'viewability': 'PARTIAL', 'embeddable': True, 'publicDomain': False, 'textToSpeechPermission': 'ALLOWED', 'epub': {'isAvailable': True, 'acsTokenLink': 'http://books.google.com.tr/books/download/Hamlet-sample-epub.acsm?id=JfLsAQAAQBAJ&format=epub&output=acs4_fulfillment_token&dl_type=sample&source=gbs_api'}, 'pdf': {'isAvailable': True, 'acsTokenLink': 'http://books.google.com.tr/books/download/Hamlet-sample-pdf.acsm?id=JfLsAQAAQBAJ&format=pdf&output=acs4_fulfillment_token&dl_type=sample&source=gbs_api'}, 'webReaderLink': 'http://play.google.com/books/reader?id=JfLsAQAAQBAJ&hl=&source=gbs_api', 'accessViewStatus': 'SAMPLE', 'quoteSharingAllowed': False}, 'searchInfo': {'textSnippet': 'Hamlet é uma tragédia de William Shakespeare, escrita entre 1599 e 1601.'}}]}\n"
     ]
    }
   ],
   "source": [
    "api_service_name = \"books\"\n",
    "api_version = \"v1\"\n",
    "\n",
    "book_ids = [\n",
    "    \"JfLsAQAAQBAJ\",  # Replace with actual book IDs\n",
    "    # Can add more book IDs\n",
    "]\n",
    "\n",
    "# Get credentials and create an API client\n",
    "\n",
    "books = build(api_service_name, api_version, developerKey=BOOK_API_KEY)\n",
    "\n",
    "request = books.volumes().list(\n",
    "    q=\",\".join(book_ids)\n",
    ")\n",
    "response = request.execute()\n",
    "\n",
    "print(response)\n"
   ]
  },
  {
   "cell_type": "code",
   "execution_count": 3,
   "metadata": {},
   "outputs": [
    {
     "data": {
      "application/json": {
       "items": [
        {
         "accessInfo": {
          "accessViewStatus": "SAMPLE",
          "country": "TR",
          "embeddable": true,
          "epub": {
           "acsTokenLink": "http://books.google.com.tr/books/download/Hamlet-sample-epub.acsm?id=JfLsAQAAQBAJ&format=epub&output=acs4_fulfillment_token&dl_type=sample&source=gbs_api",
           "isAvailable": true
          },
          "pdf": {
           "acsTokenLink": "http://books.google.com.tr/books/download/Hamlet-sample-pdf.acsm?id=JfLsAQAAQBAJ&format=pdf&output=acs4_fulfillment_token&dl_type=sample&source=gbs_api",
           "isAvailable": true
          },
          "publicDomain": false,
          "quoteSharingAllowed": false,
          "textToSpeechPermission": "ALLOWED",
          "viewability": "PARTIAL",
          "webReaderLink": "http://play.google.com/books/reader?id=JfLsAQAAQBAJ&hl=&source=gbs_api"
         },
         "etag": "6OvUDJ6f1Lo",
         "id": "JfLsAQAAQBAJ",
         "kind": "books#volume",
         "saleInfo": {
          "buyLink": "https://play.google.com/store/books/details?id=JfLsAQAAQBAJ&rdid=book-JfLsAQAAQBAJ&rdot=1&source=gbs_api",
          "country": "TR",
          "isEbook": true,
          "listPrice": {
           "amount": 34.57,
           "currencyCode": "TRY"
          },
          "offers": [
           {
            "finskyOfferType": 1,
            "listPrice": {
             "amountInMicros": 34570000,
             "currencyCode": "TRY"
            },
            "retailPrice": {
             "amountInMicros": 34570000,
             "currencyCode": "TRY"
            }
           }
          ],
          "retailPrice": {
           "amount": 34.57,
           "currencyCode": "TRY"
          },
          "saleability": "FOR_SALE"
         },
         "searchInfo": {
          "textSnippet": "Hamlet é uma tragédia de William Shakespeare, escrita entre 1599 e 1601."
         },
         "selfLink": "https://books.googleapis.com/books/v1/volumes/JfLsAQAAQBAJ",
         "volumeInfo": {
          "allowAnonLogging": true,
          "authors": [
           "Shakespeare, William"
          ],
          "canonicalVolumeLink": "https://play.google.com/store/books/details?id=JfLsAQAAQBAJ",
          "categories": [
           "Drama"
          ],
          "contentVersion": "1.9.10.0.preview.3",
          "description": "Hamlet é uma tragédia de William Shakespeare, escrita entre 1599 e 1601. A peça, situada na Dinamarca, reconta a história de como o Príncipe Hamlet tenta vingar a morte de seu pai Hamlet, o rei, executando seu tio Cláudio, que o envenenou e em seguida tomou o trono casando-se com a mãe de Hamlet. A peça traça um mapa do curso de vida na loucura real e na loucura fingida — do sofrimento opressivo à raiva fervorosa — e explora temas como a traição, vingança, incesto, corrupção e moralidade. Apesar da enorme investigação que se faz acerca do texto, o ano exato em que Shakespeare escreveu-o permanece em debate. Três primeiras versões da peça sobrevivem aos nossos dias: essas são conhecidas como o Primeiro Quarto (Q1), o Segundo Quarto (Q2) e o First Folio (F1). Cada uma dessas possui linhas ou mesmo cenas que estão ausentes nas outras. Acredita-se que Shakespeare escreveu Hamlet baseado na lenda de Amleto, preservada no século XIII pelo cronista Saxo Grammaticus em seu Gesta Danorum e, mais tarde, retomada por François de Belleforest no século XVI, e numa suposta peça do teatro isabelino conhecida hoje como Ur-Hamlet.",
          "imageLinks": {
           "smallThumbnail": "http://books.google.com/books/content?id=JfLsAQAAQBAJ&printsec=frontcover&img=1&zoom=5&edge=curl&source=gbs_api",
           "thumbnail": "http://books.google.com/books/content?id=JfLsAQAAQBAJ&printsec=frontcover&img=1&zoom=1&edge=curl&source=gbs_api"
          },
          "industryIdentifiers": [
           {
            "identifier": "9785000641293",
            "type": "ISBN_13"
           },
           {
            "identifier": "5000641299",
            "type": "ISBN_10"
           }
          ],
          "infoLink": "https://play.google.com/store/books/details?id=JfLsAQAAQBAJ&source=gbs_api",
          "language": "pt-BR",
          "maturityRating": "NOT_MATURE",
          "pageCount": 142,
          "panelizationSummary": {
           "containsEpubBubbles": false,
           "containsImageBubbles": false
          },
          "previewLink": "http://books.google.com.tr/books?id=JfLsAQAAQBAJ&printsec=frontcover&dq=JfLsAQAAQBAJ&hl=&cd=1&source=gbs_api",
          "printType": "BOOK",
          "publishedDate": "2015-04-24",
          "publisher": "Aegitas",
          "readingModes": {
           "image": true,
           "text": true
          },
          "title": "Hamlet"
         }
        }
       ],
       "kind": "books#volumes",
       "totalItems": 1
      },
      "text/plain": [
       "<IPython.core.display.JSON object>"
      ]
     },
     "execution_count": 3,
     "metadata": {
      "application/json": {
       "expanded": false,
       "root": "root"
      }
     },
     "output_type": "execute_result"
    }
   ],
   "source": [
    "JSON(response)"
   ]
  },
  {
   "cell_type": "code",
   "execution_count": 6,
   "metadata": {},
   "outputs": [],
   "source": [
    "api_service_name = \"books\"\n",
    "api_version = \"v1\"\n",
    "\n",
    "book_ids = [\n",
    "    \"JfLsAQAAQBAJ\",\n",
    "    \"ksOEEAAAQBAJ\",\n",
    "    \"LPKyUG4OmlsC\",\n",
    "    \"vAsdtG_P21oC\"\n",
    "]\n",
    "\n",
    "# Get credentials and create an API client\n",
    "\n",
    "books = build(api_service_name, api_version, developerKey=BOOK_API_KEY)"
   ]
  },
  {
   "cell_type": "code",
   "execution_count": 7,
   "metadata": {},
   "outputs": [],
   "source": [
    "def get_book_info(books, book_ids):\n",
    "    all_data = []\n",
    "\n",
    "    \"\"\"request = books.volumes().list(\n",
    "        q=\",\".join(book_ids)\n",
    "    )\n",
    "\n",
    "    response = request.execute()\n",
    "\n",
    "    # loop through items in response\n",
    "    for item in response.get(\"items\", []):\n",
    "        volume_info = item.get(\"volumeInfo\", {})\"\"\"\n",
    "\n",
    "    for book_id in book_ids:\n",
    "        request = books.volumes().get(volumeId=book_id)\n",
    "        response = request.execute()\n",
    "\n",
    "        volume_info = response.get(\"volumeInfo\", {})\n",
    "\n",
    "        data = {\n",
    "            'title': volume_info.get('title', 'N/A'),\n",
    "            'authors': volume_info.get('authors', 'N/A'),\n",
    "            'publishedDate': volume_info.get('publishedDate', 'N/A'),\n",
    "            'description': volume_info.get('description', 'N/A'),\n",
    "            'pageCount': volume_info.get('pageCount', 'N/A'),\n",
    "            'categories': volume_info.get('categories', 'N/A'),\n",
    "        }\n",
    "        all_data.append(data)\n",
    "\n",
    "    return pd.DataFrame(all_data)\n"
   ]
  },
  {
   "cell_type": "code",
   "execution_count": 8,
   "metadata": {},
   "outputs": [],
   "source": [
    "book_data = get_book_info(books, book_ids)"
   ]
  },
  {
   "cell_type": "code",
   "execution_count": 7,
   "metadata": {},
   "outputs": [
    {
     "data": {
      "text/html": [
       "<div>\n",
       "<style scoped>\n",
       "    .dataframe tbody tr th:only-of-type {\n",
       "        vertical-align: middle;\n",
       "    }\n",
       "\n",
       "    .dataframe tbody tr th {\n",
       "        vertical-align: top;\n",
       "    }\n",
       "\n",
       "    .dataframe thead th {\n",
       "        text-align: right;\n",
       "    }\n",
       "</style>\n",
       "<table border=\"1\" class=\"dataframe\">\n",
       "  <thead>\n",
       "    <tr style=\"text-align: right;\">\n",
       "      <th></th>\n",
       "      <th>title</th>\n",
       "      <th>authors</th>\n",
       "      <th>publishedDate</th>\n",
       "      <th>description</th>\n",
       "      <th>pageCount</th>\n",
       "      <th>categories</th>\n",
       "    </tr>\n",
       "  </thead>\n",
       "  <tbody>\n",
       "    <tr>\n",
       "      <th>0</th>\n",
       "      <td>Hamlet</td>\n",
       "      <td>[Shakespeare, William]</td>\n",
       "      <td>2015-04-24</td>\n",
       "      <td>Hamlet é uma tragédia de William Shakespeare, ...</td>\n",
       "      <td>142</td>\n",
       "      <td>[Drama / General, Drama / Shakespeare, Drama /...</td>\n",
       "    </tr>\n",
       "    <tr>\n",
       "      <th>1</th>\n",
       "      <td>Macbeth - NE</td>\n",
       "      <td>[William Shakespeare]</td>\n",
       "      <td>2012-01-01</td>\n",
       "      <td>O apaixonante deste texto de Shakespeare é o c...</td>\n",
       "      <td>114</td>\n",
       "      <td>[Drama / General]</td>\n",
       "    </tr>\n",
       "    <tr>\n",
       "      <th>2</th>\n",
       "      <td>Odisseia</td>\n",
       "      <td>[Homero]</td>\n",
       "      <td>2007-04-25</td>\n",
       "      <td>Surgida no século IX a.C., a \"Odisseia\" é cons...</td>\n",
       "      <td>456</td>\n",
       "      <td>[Fiction / Classics]</td>\n",
       "    </tr>\n",
       "    <tr>\n",
       "      <th>3</th>\n",
       "      <td>Noite de Reis</td>\n",
       "      <td>[William Shakespeare]</td>\n",
       "      <td>2011-11-09</td>\n",
       "      <td>Nesta peça, um grupo arma uma cilada para faze...</td>\n",
       "      <td>144</td>\n",
       "      <td>[Fiction / General]</td>\n",
       "    </tr>\n",
       "  </tbody>\n",
       "</table>\n",
       "</div>"
      ],
      "text/plain": [
       "           title                 authors publishedDate  \\\n",
       "0         Hamlet  [Shakespeare, William]    2015-04-24   \n",
       "1   Macbeth - NE   [William Shakespeare]    2012-01-01   \n",
       "2       Odisseia                [Homero]    2007-04-25   \n",
       "3  Noite de Reis   [William Shakespeare]    2011-11-09   \n",
       "\n",
       "                                         description  pageCount  \\\n",
       "0  Hamlet é uma tragédia de William Shakespeare, ...        142   \n",
       "1  O apaixonante deste texto de Shakespeare é o c...        114   \n",
       "2  Surgida no século IX a.C., a \"Odisseia\" é cons...        456   \n",
       "3  Nesta peça, um grupo arma uma cilada para faze...        144   \n",
       "\n",
       "                                          categories  \n",
       "0  [Drama / General, Drama / Shakespeare, Drama /...  \n",
       "1                                  [Drama / General]  \n",
       "2                               [Fiction / Classics]  \n",
       "3                                [Fiction / General]  "
      ]
     },
     "execution_count": 7,
     "metadata": {},
     "output_type": "execute_result"
    }
   ],
   "source": [
    "book_data"
   ]
  },
  {
   "cell_type": "code",
   "execution_count": 9,
   "metadata": {},
   "outputs": [],
   "source": [
    "def get_popular_books_by_category(books, category):\n",
    "    # Fonksiyon, belirli bir kategorideki popüler kitapları almak için kullanılır.\n",
    "    all_data = []\n",
    "\n",
    "    # Google Books API'ye bir sorgu yapılıyor.\n",
    "    request = books.volumes().list(\n",
    "        q=f\"subject:{category}\",  # Belirli bir kategoriye ait kitapları sorgulamak için kullanılan sorgu ifadesi.\n",
    "        orderBy=\"relevance\",  # Kitapların sıralama ölçütü. \"relevance\" en ilgili olanları ön plana çıkarır.\n",
    "        maxResults=40  # En fazla alınacak kitap sayısı.\n",
    "    )\n",
    "\n",
    "    # API'ye yapılan sorgu sonucunda gelen yanıt alınıyor.\n",
    "    response = request.execute()\n",
    "\n",
    "    # Gelen yanıt içindeki her bir kitap için bir döngü oluşturuluyor.\n",
    "    for item in response.get(\"items\", []):\n",
    "        # Kitap bilgilerini içeren kısmı alıyoruz.\n",
    "        volume_info = item.get(\"volumeInfo\", {})\n",
    "\n",
    "        # Kitap bilgileri bir sözlük içinde düzenleniyor.\n",
    "        data = {\n",
    "            'title': volume_info.get('title', 'N/A'),\n",
    "            'authors': volume_info.get('authors', ['N/A']),\n",
    "            'publishedDate': volume_info.get('publishedDate', 'N/A'),\n",
    "            'description': volume_info.get('description', 'N/A'),\n",
    "            'pageCount': volume_info.get('pageCount', 'N/A'),\n",
    "            'categories': volume_info.get('categories', ['N/A']),\n",
    "        }\n",
    "        \n",
    "        # Kitap bilgileri listeye ekleniyor.\n",
    "        all_data.append(data)\n",
    "\n",
    "    # Oluşturulan kitap bilgileri listesi bir Pandas DataFrame'e dönüştürülüyor ve geri döndürülüyor.\n",
    "    return pd.DataFrame(all_data)"
   ]
  },
  {
   "cell_type": "markdown",
   "metadata": {},
   "source": [
    "##### Aşağıda categories kısmında \"Literary Criticism\" gibi Drama'dan farklı kategoriler gözükmektedir bunun sebebi Google Books API, bir kitabın kategorilerini belirlemek için çeşitli kaynakları kullanır ancak kitaplar genellikle birkaç farklı kategoriyle etiketlenebilir ve bu etiketler kitabın içeriğine, konusuna veya bir dizi diğer faktöre dayanabilir bu nedenle API tarafından döndürülen bir kitabın kategorileri sadece belirli bir anahtar kelimeyle eşleşmeyebilir."
   ]
  },
  {
   "cell_type": "code",
   "execution_count": 11,
   "metadata": {},
   "outputs": [
    {
     "data": {
      "text/html": [
       "<div>\n",
       "<style scoped>\n",
       "    .dataframe tbody tr th:only-of-type {\n",
       "        vertical-align: middle;\n",
       "    }\n",
       "\n",
       "    .dataframe tbody tr th {\n",
       "        vertical-align: top;\n",
       "    }\n",
       "\n",
       "    .dataframe thead th {\n",
       "        text-align: right;\n",
       "    }\n",
       "</style>\n",
       "<table border=\"1\" class=\"dataframe\">\n",
       "  <thead>\n",
       "    <tr style=\"text-align: right;\">\n",
       "      <th></th>\n",
       "      <th>title</th>\n",
       "      <th>authors</th>\n",
       "      <th>publishedDate</th>\n",
       "      <th>description</th>\n",
       "      <th>pageCount</th>\n",
       "      <th>categories</th>\n",
       "    </tr>\n",
       "  </thead>\n",
       "  <tbody>\n",
       "    <tr>\n",
       "      <th>0</th>\n",
       "      <td>Provenance and Annotation of Data</td>\n",
       "      <td>[Luc Moreau]</td>\n",
       "      <td>2006-09-27</td>\n",
       "      <td>This book constitutes the thoroughly referred ...</td>\n",
       "      <td>298</td>\n",
       "      <td>[Business &amp; Economics]</td>\n",
       "    </tr>\n",
       "    <tr>\n",
       "      <th>1</th>\n",
       "      <td>Provenance and Annotation of Data</td>\n",
       "      <td>[Luc Moreau]</td>\n",
       "      <td>2006-09-27</td>\n",
       "      <td>This book constitutes the thoroughly referred ...</td>\n",
       "      <td>298</td>\n",
       "      <td>[Business &amp; Economics]</td>\n",
       "    </tr>\n",
       "    <tr>\n",
       "      <th>2</th>\n",
       "      <td>Proceedings of the 2nd International Conferenc...</td>\n",
       "      <td>[Association for Computing Machinery, ACM Digi...</td>\n",
       "      <td>2009-11-24</td>\n",
       "      <td>ICIS 2009: The 2nd International Conference on...</td>\n",
       "      <td>1479</td>\n",
       "      <td>[Computer security]</td>\n",
       "    </tr>\n",
       "    <tr>\n",
       "      <th>3</th>\n",
       "      <td>Fallout</td>\n",
       "      <td>[Roger Cross]</td>\n",
       "      <td>2001-01</td>\n",
       "      <td>In the 1950s, the Australian government agreed...</td>\n",
       "      <td>226</td>\n",
       "      <td>[History]</td>\n",
       "    </tr>\n",
       "    <tr>\n",
       "      <th>4</th>\n",
       "      <td>IERI Monograph Series on Issues and Methodolog...</td>\n",
       "      <td>[N/A]</td>\n",
       "      <td>2009</td>\n",
       "      <td>N/A</td>\n",
       "      <td>N/A</td>\n",
       "      <td>[N/A]</td>\n",
       "    </tr>\n",
       "    <tr>\n",
       "      <th>5</th>\n",
       "      <td>Education and Informatics Worldwide</td>\n",
       "      <td>[Jacques Hebenstreit]</td>\n",
       "      <td>1992</td>\n",
       "      <td>The micro computer has had a revolutionary imp...</td>\n",
       "      <td>264</td>\n",
       "      <td>[Computer]</td>\n",
       "    </tr>\n",
       "    <tr>\n",
       "      <th>6</th>\n",
       "      <td>Education and Informatics Worldwide</td>\n",
       "      <td>[Jacques Hebenstreit]</td>\n",
       "      <td>1992</td>\n",
       "      <td>The micro computer has had a revolutionary imp...</td>\n",
       "      <td>264</td>\n",
       "      <td>[Computer]</td>\n",
       "    </tr>\n",
       "    <tr>\n",
       "      <th>7</th>\n",
       "      <td>Underlying Dimensions of Knowledge Assessment</td>\n",
       "      <td>[Derek Hung Chiat Chen, Kishore S. Gawande]</td>\n",
       "      <td>2007</td>\n",
       "      <td>The Knowledge Assessment Methodology (KAM) dat...</td>\n",
       "      <td>56</td>\n",
       "      <td>[Correlation]</td>\n",
       "    </tr>\n",
       "    <tr>\n",
       "      <th>8</th>\n",
       "      <td>The UK's Share of World Research Output</td>\n",
       "      <td>[Research Information Network (Organization)]</td>\n",
       "      <td>2009</td>\n",
       "      <td>N/A</td>\n",
       "      <td>23</td>\n",
       "      <td>[Bibliometrics]</td>\n",
       "    </tr>\n",
       "    <tr>\n",
       "      <th>9</th>\n",
       "      <td>IPC for Modular Software Requires a Third Part...</td>\n",
       "      <td>[Stuart Arthur Friedberg, ROCHESTER UNIV NY DE...</td>\n",
       "      <td>1987</td>\n",
       "      <td>Reconfiguration, on-line maintenance, load bal...</td>\n",
       "      <td>11</td>\n",
       "      <td>[Data]</td>\n",
       "    </tr>\n",
       "    <tr>\n",
       "      <th>10</th>\n",
       "      <td>Scientific Program and Abstracts</td>\n",
       "      <td>[CODATA. Israel National Committee, Moʻatsah h...</td>\n",
       "      <td>1984</td>\n",
       "      <td>N/A</td>\n",
       "      <td>86</td>\n",
       "      <td>[N/A]</td>\n",
       "    </tr>\n",
       "    <tr>\n",
       "      <th>11</th>\n",
       "      <td>Scientific Program and Abstracts</td>\n",
       "      <td>[N/A]</td>\n",
       "      <td>1986</td>\n",
       "      <td>N/A</td>\n",
       "      <td>102</td>\n",
       "      <td>[Data]</td>\n",
       "    </tr>\n",
       "    <tr>\n",
       "      <th>12</th>\n",
       "      <td>Mexico</td>\n",
       "      <td>[Monica Tinajero]</td>\n",
       "      <td>2010</td>\n",
       "      <td>Abstract: Unlike social programs targeting ind...</td>\n",
       "      <td>47</td>\n",
       "      <td>[Business development]</td>\n",
       "    </tr>\n",
       "    <tr>\n",
       "      <th>13</th>\n",
       "      <td>Radioactivity Survey Data in Japan</td>\n",
       "      <td>[N/A]</td>\n",
       "      <td>2000</td>\n",
       "      <td>N/A</td>\n",
       "      <td>29</td>\n",
       "      <td>[Radioactivity]</td>\n",
       "    </tr>\n",
       "    <tr>\n",
       "      <th>14</th>\n",
       "      <td>Radioactivity Survey Data in Japan</td>\n",
       "      <td>[N/A]</td>\n",
       "      <td>2000</td>\n",
       "      <td>N/A</td>\n",
       "      <td>32</td>\n",
       "      <td>[Data]</td>\n",
       "    </tr>\n",
       "    <tr>\n",
       "      <th>15</th>\n",
       "      <td>Underlying Dimensions of Knowledge Assessment</td>\n",
       "      <td>[Derek Hung Chiat Chen, Kishore S. Gawande]</td>\n",
       "      <td>2007</td>\n",
       "      <td>The Knowledge Assessment Methodology (KAM) dat...</td>\n",
       "      <td>56</td>\n",
       "      <td>[Correlation]</td>\n",
       "    </tr>\n",
       "    <tr>\n",
       "      <th>16</th>\n",
       "      <td>Utilities Reforms and Corruption in Developing...</td>\n",
       "      <td>[Antonio Estache, Ana Goicoechea, Lourdes Truj...</td>\n",
       "      <td>2006</td>\n",
       "      <td>This paper shows empirically that \"privatizati...</td>\n",
       "      <td>30</td>\n",
       "      <td>[Cell phones]</td>\n",
       "    </tr>\n",
       "    <tr>\n",
       "      <th>17</th>\n",
       "      <td>Manual of Food Irradiation Dosimetry</td>\n",
       "      <td>[International Atomic Energy Agency]</td>\n",
       "      <td>1977</td>\n",
       "      <td>Abstract: A manual for food processing plant o...</td>\n",
       "      <td>192</td>\n",
       "      <td>[Comparative evaluations]</td>\n",
       "    </tr>\n",
       "  </tbody>\n",
       "</table>\n",
       "</div>"
      ],
      "text/plain": [
       "                                                title  \\\n",
       "0                   Provenance and Annotation of Data   \n",
       "1                   Provenance and Annotation of Data   \n",
       "2   Proceedings of the 2nd International Conferenc...   \n",
       "3                                             Fallout   \n",
       "4   IERI Monograph Series on Issues and Methodolog...   \n",
       "5                 Education and Informatics Worldwide   \n",
       "6                 Education and Informatics Worldwide   \n",
       "7       Underlying Dimensions of Knowledge Assessment   \n",
       "8             The UK's Share of World Research Output   \n",
       "9   IPC for Modular Software Requires a Third Part...   \n",
       "10                   Scientific Program and Abstracts   \n",
       "11                   Scientific Program and Abstracts   \n",
       "12                                             Mexico   \n",
       "13                 Radioactivity Survey Data in Japan   \n",
       "14                 Radioactivity Survey Data in Japan   \n",
       "15      Underlying Dimensions of Knowledge Assessment   \n",
       "16  Utilities Reforms and Corruption in Developing...   \n",
       "17               Manual of Food Irradiation Dosimetry   \n",
       "\n",
       "                                              authors publishedDate  \\\n",
       "0                                        [Luc Moreau]    2006-09-27   \n",
       "1                                        [Luc Moreau]    2006-09-27   \n",
       "2   [Association for Computing Machinery, ACM Digi...    2009-11-24   \n",
       "3                                       [Roger Cross]       2001-01   \n",
       "4                                               [N/A]          2009   \n",
       "5                               [Jacques Hebenstreit]          1992   \n",
       "6                               [Jacques Hebenstreit]          1992   \n",
       "7         [Derek Hung Chiat Chen, Kishore S. Gawande]          2007   \n",
       "8       [Research Information Network (Organization)]          2009   \n",
       "9   [Stuart Arthur Friedberg, ROCHESTER UNIV NY DE...          1987   \n",
       "10  [CODATA. Israel National Committee, Moʻatsah h...          1984   \n",
       "11                                              [N/A]          1986   \n",
       "12                                  [Monica Tinajero]          2010   \n",
       "13                                              [N/A]          2000   \n",
       "14                                              [N/A]          2000   \n",
       "15        [Derek Hung Chiat Chen, Kishore S. Gawande]          2007   \n",
       "16  [Antonio Estache, Ana Goicoechea, Lourdes Truj...          2006   \n",
       "17               [International Atomic Energy Agency]          1977   \n",
       "\n",
       "                                          description pageCount  \\\n",
       "0   This book constitutes the thoroughly referred ...       298   \n",
       "1   This book constitutes the thoroughly referred ...       298   \n",
       "2   ICIS 2009: The 2nd International Conference on...      1479   \n",
       "3   In the 1950s, the Australian government agreed...       226   \n",
       "4                                                 N/A       N/A   \n",
       "5   The micro computer has had a revolutionary imp...       264   \n",
       "6   The micro computer has had a revolutionary imp...       264   \n",
       "7   The Knowledge Assessment Methodology (KAM) dat...        56   \n",
       "8                                                 N/A        23   \n",
       "9   Reconfiguration, on-line maintenance, load bal...        11   \n",
       "10                                                N/A        86   \n",
       "11                                                N/A       102   \n",
       "12  Abstract: Unlike social programs targeting ind...        47   \n",
       "13                                                N/A        29   \n",
       "14                                                N/A        32   \n",
       "15  The Knowledge Assessment Methodology (KAM) dat...        56   \n",
       "16  This paper shows empirically that \"privatizati...        30   \n",
       "17  Abstract: A manual for food processing plant o...       192   \n",
       "\n",
       "                   categories  \n",
       "0      [Business & Economics]  \n",
       "1      [Business & Economics]  \n",
       "2         [Computer security]  \n",
       "3                   [History]  \n",
       "4                       [N/A]  \n",
       "5                  [Computer]  \n",
       "6                  [Computer]  \n",
       "7               [Correlation]  \n",
       "8             [Bibliometrics]  \n",
       "9                      [Data]  \n",
       "10                      [N/A]  \n",
       "11                     [Data]  \n",
       "12     [Business development]  \n",
       "13            [Radioactivity]  \n",
       "14                     [Data]  \n",
       "15              [Correlation]  \n",
       "16              [Cell phones]  \n",
       "17  [Comparative evaluations]  "
      ]
     },
     "execution_count": 11,
     "metadata": {},
     "output_type": "execute_result"
    }
   ],
   "source": [
    "popular = get_popular_books_by_category(books, category=\"Data Science\")\n",
    "popular"
   ]
  },
  {
   "cell_type": "code",
   "execution_count": 10,
   "metadata": {},
   "outputs": [],
   "source": [
    "def get_book_info_and_url(books, query):\n",
    "    request = books.volumes().list(q=query)\n",
    "    response = request.execute()\n",
    "\n",
    "    if response.get(\"items\"):\n",
    "        book_info = response[\"items\"][0][\"volumeInfo\"]\n",
    "        title = book_info.get(\"title\", \"\")\n",
    "        authors = \", \".join(book_info.get(\"authors\", []))\n",
    "\n",
    "        # Oluşturulan URL\n",
    "        google_books_url = f\"https://books.google.com.tr/books?id={response['items'][0]['id']}\"\n",
    "\n",
    "        return {\n",
    "            'title': title,\n",
    "            'authors': authors,\n",
    "            'google_books_url': google_books_url\n",
    "        }\n",
    "    else:\n",
    "        return None"
   ]
  },
  {
   "cell_type": "code",
   "execution_count": 11,
   "metadata": {},
   "outputs": [
    {
     "data": {
      "text/plain": [
       "{'title': 'Harry Potter ve Sirlar Odasi',\n",
       " 'authors': 'J.K. Rowling',\n",
       " 'google_books_url': 'https://books.google.com.tr/books?id=Dg5MEAAAQBAJ'}"
      ]
     },
     "execution_count": 11,
     "metadata": {},
     "output_type": "execute_result"
    }
   ],
   "source": [
    "info= get_book_info_and_url(books, query=\"Harry Potter\")\n",
    "info"
   ]
  }
 ],
 "metadata": {
  "kernelspec": {
   "display_name": "Python 3",
   "language": "python",
   "name": "python3"
  },
  "language_info": {
   "codemirror_mode": {
    "name": "ipython",
    "version": 3
   },
   "file_extension": ".py",
   "mimetype": "text/x-python",
   "name": "python",
   "nbconvert_exporter": "python",
   "pygments_lexer": "ipython3",
   "version": "3.11.5"
  }
 },
 "nbformat": 4,
 "nbformat_minor": 2
}
